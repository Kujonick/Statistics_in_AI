{
 "cells": [
  {
   "cell_type": "code",
   "execution_count": 9,
   "id": "0194f941",
   "metadata": {},
   "outputs": [],
   "source": [
    "import pandas as pd"
   ]
  },
  {
   "cell_type": "code",
   "execution_count": 10,
   "id": "c1292114",
   "metadata": {},
   "outputs": [],
   "source": [
    "raw_data = pd.read_csv(\"one_dollar_spin_and_go.csv\")"
   ]
  },
  {
   "cell_type": "code",
   "execution_count": 27,
   "id": "2593162e",
   "metadata": {},
   "outputs": [
    {
     "data": {
      "text/plain": [
       "Index(['buyin', 'tourn_id', 'table', 'hand_id', 'date', 'time', 'table_size',\n",
       "       'level', 'playing', 'seat', 'name', 'stack', 'position', 'action_pre',\n",
       "       'action_flop', 'action_turn', 'action_river', 'all_in', 'cards',\n",
       "       'board_flop', 'board_turn', 'board_river', 'combination', 'pot_pre',\n",
       "       'pot_flop', 'pot_turn', 'pot_river', 'ante', 'blinds', 'bet_pre',\n",
       "       'bet_flop', 'bet_turn', 'bet_river', 'result', 'balance'],\n",
       "      dtype='object')"
      ]
     },
     "execution_count": 27,
     "metadata": {},
     "output_type": "execute_result"
    }
   ],
   "source": [
    "raw_data.columns"
   ]
  },
  {
   "cell_type": "code",
   "execution_count": null,
   "id": "1139ce2d",
   "metadata": {},
   "outputs": [],
   "source": [
    "# pd.set_option(\"display.max_columns\", None)\n",
    "# pd.set_option(\"display.max_rows\", 1000)"
   ]
  },
  {
   "cell_type": "code",
   "execution_count": 26,
   "id": "4dc902fb",
   "metadata": {},
   "outputs": [
    {
     "name": "stdout",
     "output_type": "stream",
     "text": [
      "    cards board_flop\n",
      "0   8d Qh          0\n",
      "1      --          0\n",
      "2      --          0\n",
      "3   Ks 4s   Ad Kh 4c\n",
      "4      --   Ad Kh 4c\n",
      "5      --   Ad Kh 4c\n",
      "6   Js Qh   7s Qc 9c\n",
      "7      --   7s Qc 9c\n",
      "8      --   7s Qc 9c\n",
      "9   8h 3h          0\n",
      "10     --          0\n",
      "11     --          0\n",
      "12  2c 8h   7s 2h Jc\n",
      "13     --   7s 2h Jc\n",
      "14     --   7s 2h Jc\n",
      "15  Tc Ts   8d 5c 6d\n",
      "16     --   8d 5c 6d\n",
      "17     --   8d 5c 6d\n",
      "18  3s 3h   5s Qh 9c\n",
      "19     --   5s Qh 9c\n",
      "20     --   5s Qh 9c\n",
      "21  6c 3c   Jc 9s 4s\n",
      "22     --   Jc 9s 4s\n",
      "23     --   Jc 9s 4s\n",
      "24  5h 6c          0\n",
      "25     --          0\n",
      "26     --          0\n",
      "27  Qh 2d          0\n",
      "28     --          0\n",
      "29     --          0\n",
      "30  9h 6c   Ac 6h 8h\n",
      "31  5s 3s   Ac 6h 8h\n",
      "32     --   Ac 6h 8h\n",
      "33  2h Ks          0\n",
      "34     --          0\n",
      "35     --          0\n",
      "36  9c 4h          0\n",
      "37     --          0\n",
      "38     --          0\n",
      "39  Jc As   4h Td 9h\n",
      "40  8c 8d   4h Td 9h\n",
      "41  Ah 6h   4h Td 9h\n",
      "42  2d 9h          0\n",
      "43     --          0\n",
      "44  6c 7d          0\n",
      "45     --          0\n",
      "46  3s 5h          0\n",
      "47     --          0\n",
      "48  Qc 6d          0\n",
      "49     --          0\n",
      "50  As Kd   Jc 6c 5d\n",
      "51  6h 2h   Jc 6c 5d\n",
      "52     --   9d 9h Ah\n",
      "53  4c 3d   9d 9h Ah\n",
      "54     --   9d 9h Ah\n",
      "55     --          0\n",
      "56  Js Jh          0\n",
      "57     --          0\n",
      "58     --   8c 4d Jh\n",
      "59  6h As   8c 4d Jh\n",
      "60  7d 7s   8c 4d Jh\n",
      "61     --   Ks 7h Js\n",
      "62  7d 2s   Ks 7h Js\n",
      "63     --   Ks 7h Js\n",
      "64  Jh Ac   6h 9d 6d\n",
      "65  2d 3s   6h 9d 6d\n",
      "66  Ad 7c   6h 9d 6d\n",
      "67  Jd Kc   As 3s 3c\n",
      "68  Qd 6h   As 3s 3c\n",
      "69  2d Ad   As 3s 3c\n",
      "70     --   Ah Jd Ac\n",
      "71  Ks 8c   Ah Jd Ac\n",
      "72  Jc Kd   Ah Jd Ac\n",
      "73     --   Ts Jc 6d\n",
      "74  3c 7h   Ts Jc 6d\n",
      "75     --   Ts Jc 6d\n",
      "76  5s Js   7d Jc 6s\n",
      "77  Ah 2s   7d Jc 6s\n",
      "78     --   7d Jc 6s\n",
      "79     --   Jh 3c 2h\n",
      "80     --   Jh 3c 2h\n",
      "81  Ks 3s   Jh 3c 2h\n",
      "82     --          0\n",
      "83     --          0\n",
      "84  Ts 4c          0\n",
      "85  9s Qs   9d 3d 4s\n",
      "86  9h 3h   9d 3d 4s\n",
      "87  5c 4d   9d 3d 4s\n",
      "88     --          0\n",
      "89     --          0\n",
      "90  4s Qh          0\n",
      "91  9d Js   Qd As 6s\n",
      "92  Jc Th   Qd As 6s\n",
      "93  8h Kh   Qd As 6s\n",
      "94  Qs 6h   4d 8s 8d\n",
      "95  2d Th   4d 8s 8d\n",
      "96     --   7s 6h 9c\n",
      "97  5s 8h   7s 6h 9c\n",
      "98     --   7s 6h 9c\n",
      "99     --   Qd Kd 5s\n"
     ]
    }
   ],
   "source": [
    "print(raw_data.iloc[:100][['cards', 'board_flop']])"
   ]
  },
  {
   "cell_type": "code",
   "execution_count": null,
   "id": "60697aa7",
   "metadata": {},
   "outputs": [
    {
     "data": {
      "text/plain": [
       "1887"
      ]
     },
     "execution_count": 14,
     "metadata": {},
     "output_type": "execute_result"
    }
   ],
   "source": []
  },
  {
   "cell_type": "code",
   "execution_count": null,
   "id": "2362ec6e",
   "metadata": {},
   "outputs": [],
   "source": [
    "raw_data.drop(columns=['buyin', 'tourn_id'])"
   ]
  }
 ],
 "metadata": {
  "kernelspec": {
   "display_name": "base",
   "language": "python",
   "name": "python3"
  },
  "language_info": {
   "codemirror_mode": {
    "name": "ipython",
    "version": 3
   },
   "file_extension": ".py",
   "mimetype": "text/x-python",
   "name": "python",
   "nbconvert_exporter": "python",
   "pygments_lexer": "ipython3",
   "version": "3.9.18"
  }
 },
 "nbformat": 4,
 "nbformat_minor": 5
}
